{
 "cells": [
  {
   "cell_type": "code",
   "execution_count": 1,
   "metadata": {},
   "outputs": [],
   "source": [
    "from PIL import Image\n",
    "import numpy as np\n",
    "import tkinter as tk\n",
    "from os import listdir\n",
    "from os.path import isfile, join, isdir\n",
    "import pandas as pd\n",
    "from matplotlib import pyplot as plt"
   ]
  },
  {
   "cell_type": "code",
   "execution_count": 2,
   "metadata": {},
   "outputs": [],
   "source": [
    "import cv2\n",
    "import requests"
   ]
  },
  {
   "cell_type": "code",
   "execution_count": 3,
   "metadata": {},
   "outputs": [],
   "source": [
    "\n",
    "image_cible = cv2.imread('./SARY_AMPIANARINA/20230628_163232-1.jpg')\n",
    "detecteur = cv2.ORB_create()\n",
    "\n",
    "# Trouver les points-clés et les descripteurs de l'image cible\n",
    "points_cles_cible, descripteurs_cible = detecteur.detectAndCompute(image_cible, None)"
   ]
  },
  {
   "cell_type": "code",
   "execution_count": 5,
   "metadata": {},
   "outputs": [],
   "source": [
    "\n",
    "\n",
    "# Spécifiez l'URL du flux vidéo provenant de votre téléphone\n",
    "port = \"8080\"\n",
    "ip = \"192.168.10.106\"\n",
    "url = f'http://{ip}:{port}/video'\n",
    "\n",
    "capture = cv2.VideoCapture(url)\n",
    "message = \"Bonjour !\"\n",
    "\n"
   ]
  },
  {
   "cell_type": "code",
   "execution_count": 6,
   "metadata": {},
   "outputs": [
    {
     "name": "stderr",
     "output_type": "stream",
     "text": [
      "Warning: Ignoring XDG_SESSION_TYPE=wayland on Gnome. Use QT_QPA_PLATFORM=wayland to run on Wayland anyway.\n",
      "[mjpeg @ 0x557292203480] overread 8\n"
     ]
    }
   ],
   "source": [
    "while True:\n",
    "    ret, frame = capture.read()\n",
    "    if not ret:\n",
    "        break\n",
    "    \n",
    "    # cv2.imshow('Camera', frame)\n",
    "    # Convertir la frame en niveaux de gris\n",
    "    # frame_gris = cv2.cvtColor(frame, cv2.COLOR_BGR2GRAY)\n",
    "\n",
    "    # # Trouver les points-clés et les descripteurs de la frame\n",
    "    # points_cles_frame, descripteurs_frame = detecteur.detectAndCompute(frame_gris, None)\n",
    "\n",
    "    # # Créer un objet de correspondance des caractéristiques (BFMatcher)\n",
    "    # correspondance = cv2.BFMatcher(cv2.NORM_HAMMING, crossCheck=True)\n",
    "\n",
    "    # # Trouver les correspondances entre les descripteurs de l'image cible et de la frame\n",
    "    # correspondances = correspondance.match(descripteurs_cible, descripteurs_frame)\n",
    "\n",
    "    # # Trier les correspondances par distance (plus petite distance en premier)\n",
    "    # correspondances = sorted(correspondances, key=lambda x: x.distance)\n",
    "    # print(correspondances.__len__())\n",
    "    # good_matches = correspondances[:10]\n",
    "    # # Dessiner les correspondances sur l'image frame\n",
    "    # image_correspondances = cv2.drawMatches(image_cible, points_cles_cible, frame, points_cles_frame, good_matches, None, flags=2)\n",
    "\n",
    "    # Afficher l'image des correspondances\n",
    "    \n",
    "\n",
    "    # URL pour afficher le message\n",
    "    url = f\"http://{ip}:{port}/status?text={message}\"\n",
    "\n",
    "    # Envoi de la demande HTTP pour afficher le message\n",
    "    response = requests.get(url)\n",
    "    cv2.imshow('Correspondances', frame)\n",
    "    if cv2.waitKey(1) & 0xFF == ord('q'):  # Appuyez sur 'q' pour quitter\n",
    "        break\n",
    "\n",
    "capture.release()\n",
    "cv2.destroyAllWindows()"
   ]
  },
  {
   "cell_type": "code",
   "execution_count": null,
   "metadata": {},
   "outputs": [],
   "source": []
  }
 ],
 "metadata": {
  "kernelspec": {
   "display_name": "Python 3 (ipykernel)",
   "language": "python",
   "name": "python3"
  },
  "language_info": {
   "codemirror_mode": {
    "name": "ipython",
    "version": 3
   },
   "file_extension": ".py",
   "mimetype": "text/x-python",
   "name": "python",
   "nbconvert_exporter": "python",
   "pygments_lexer": "ipython3",
   "version": "3.10.6"
  },
  "vscode": {
   "interpreter": {
    "hash": "916dbcbb3f70747c44a77c7bcd40155683ae19c65e1c03b4aa3499c5328201f1"
   }
  }
 },
 "nbformat": 4,
 "nbformat_minor": 2
}

{
 "cells": [
  {
   "cell_type": "code",
   "execution_count": null,
   "metadata": {},
   "outputs": [],
   "source": [
    "import torch\n",
    "import open_clip\n",
    "from sentence_transformers import util\n",
    "from PIL import Image\n",
    "import base64\n",
    "import io\n",
    "\n",
    "class Fonction:\n",
    "    \n",
    "    def __init__(self):\n",
    "        self.device = \"cuda\" if torch.cuda.is_available() else \"cpu\"\n",
    "        self.model, self._, self.preprocess = open_clip.create_model_and_transforms('ViT-B-16-plus-240', pretrained=\"laion400m_e32\")\n",
    "        self.model.to(self.device)\n",
    "\n",
    "    # Fonction pour encoder une image\n",
    "    def imageEncoder(self,img):\n",
    "        img1 = img.convert('RGB')\n",
    "        img1 = self.preprocess(img1).unsqueeze(0).to(self.device)\n",
    "        img1 = self.model.encode_image(img1)\n",
    "        return img1\n",
    "\n",
    "    import base64\n",
    "\n",
    "\n",
    "\n",
    "     # Fonction pour calculer le score de similarité entre deux images\n",
    "    def generateScore(self,image1_data, image2_data):\n",
    "        image1_binary = base64.b64decode(image1_data)\n",
    "        image2_binary = base64.b64decode(image2_data)\n",
    "        \n",
    "        image1 = Image.open(io.BytesIO(image1_binary))\n",
    "        image2 = Image.open(io.BytesIO(image2_binary))\n",
    "        \n",
    "        img1 = self.imageEncoder(image1)\n",
    "        img2 = self.imageEncoder(image2)\n",
    "        \n",
    "        cos_scores = util.pytorch_cos_sim(img1, img2)\n",
    "        score = round(float(cos_scores[0][0]) * 100, 2)\n",
    "        return score   \n"
   ]
  },
  {
   "cell_type": "markdown",
   "metadata": {},
   "source": []
  },
  {
   "cell_type": "code",
   "execution_count": null,
   "metadata": {},
   "outputs": [],
   "source": []
  }
 ],
 "metadata": {
  "kernelspec": {
   "display_name": "Python 3.11.8 64-bit",
   "language": "python",
   "name": "python3"
  },
  "language_info": {
   "codemirror_mode": {
    "name": "ipython",
    "version": 3
   },
   "file_extension": ".py",
   "mimetype": "text/x-python",
   "name": "python",
   "nbconvert_exporter": "python",
   "pygments_lexer": "ipython3",
   "version": "3.11.8"
  },
  "orig_nbformat": 4,
  "vscode": {
   "interpreter": {
    "hash": "aee8b7b246df8f9039afb4144a1f6fd8d2ca17a180786b69acc140d282b71a49"
   }
  }
 },
 "nbformat": 4,
 "nbformat_minor": 2
}

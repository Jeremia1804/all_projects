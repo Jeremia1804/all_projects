{
 "cells": [
  {
   "cell_type": "code",
   "execution_count": 3,
   "metadata": {},
   "outputs": [],
   "source": [
    "import numpy as np\n",
    "import math\n",
    "import pandas as pd\n",
    "from fractions import Fraction"
   ]
  },
  {
   "cell_type": "code",
   "execution_count": 23,
   "metadata": {},
   "outputs": [],
   "source": [
    "def csvToMatrice(path):\n",
    "    matrix = pd.read_csv(path)\n",
    "    matrice = matrix.values\n",
    "    newMatrice = []\n",
    "    for ligne in matrice:\n",
    "        line = []\n",
    "        for el in ligne:\n",
    "            line.append(Fraction(str(el)))\n",
    "        newMatrice.append(line)\n",
    "    return np.array(newMatrice,Fraction)"
   ]
  },
  {
   "cell_type": "code",
   "execution_count": 5,
   "metadata": {},
   "outputs": [],
   "source": [
    "def ForMin(tab):\n",
    "    i = np.argmax(tab)\n",
    "    j = np.argmin(tab)\n",
    "    if(tab[i] == 0 and tab[j] == 0):\n",
    "        return 'infini'\n",
    "    elif(tab[j]>=0):\n",
    "        return None\n",
    "    return j"
   ]
  },
  {
   "cell_type": "code",
   "execution_count": 34,
   "metadata": {},
   "outputs": [],
   "source": [
    "def ForMax(tab):\n",
    "    i = np.argmax(tab)\n",
    "    j = np.argmin(tab)\n",
    "    print(i,j)\n",
    "    if(tab[i] == 0 and tab[j] == 0):\n",
    "        return 'infini'\n",
    "    elif(tab[i]<=0):\n",
    "        return None\n",
    "    return i"
   ]
  },
  {
   "cell_type": "code",
   "execution_count": 7,
   "metadata": {},
   "outputs": [],
   "source": [
    "def maxCol(tabfin, tabpivot):\n",
    "    valeur = math.inf\n",
    "    monIndice = 0\n",
    "    for t in range (0,tabpivot.__len__()):\n",
    "        if tabpivot[t] > 0:\n",
    "            val = tabfin[t]/tabpivot[t]\n",
    "            if val<valeur:\n",
    "                valeur = val\n",
    "                monIndice = t\n",
    "    if valeur == math.inf:\n",
    "        return 'infini'\n",
    "    else:     \n",
    "        return monIndice"
   ]
  },
  {
   "cell_type": "code",
   "execution_count": 8,
   "metadata": {},
   "outputs": [],
   "source": [
    "def printMatrice(tab):\n",
    "    for ligne in tab:\n",
    "        for el in ligne:\n",
    "            me = str(el)\n",
    "            print(repr(me).rjust(6), end=' ')\n",
    "        print(\" \")"
   ]
  },
  {
   "cell_type": "code",
   "execution_count": 9,
   "metadata": {},
   "outputs": [],
   "source": [
    "def traitementPivot(matrice,iligne,jcol):\n",
    "    pivot = matrice[jcol][iligne]\n",
    "    matrice[jcol] /= pivot\n",
    "    for i in range (0,matrice.__len__()):\n",
    "        if(i!= jcol):\n",
    "            pivot1 = matrice[i][iligne]\n",
    "            matrice[i] -= matrice[jcol] * pivot1\n",
    "            "
   ]
  },
  {
   "cell_type": "code",
   "execution_count": 10,
   "metadata": {},
   "outputs": [],
   "source": [
    "def Minimiser(matrice,thors,tin):\n",
    "    indiceFarany = ForMin(matrice[-1][:-1])\n",
    "    while(indiceFarany != None):\n",
    "        if(indiceFarany == 'infini'):\n",
    "            return 'infini'\n",
    "        mat = np.array(matrice[:-1,indiceFarany])\n",
    "        mat2 = np.array(matrice[:-1,-1])\n",
    "        indiceMiakatra = maxCol(mat2,mat)\n",
    "        if (indiceMiakatra == 'infini'):\n",
    "            return 'indiceMiakatra'\n",
    "        thors[indiceMiakatra] = tin[indiceFarany]\n",
    "        traitementPivot(matrice,indiceFarany,indiceMiakatra)\n",
    "        indiceFarany = ForMin(matrice[-1][:-1])\n",
    "    return -matrice[-1][-1]"
   ]
  },
  {
   "cell_type": "code",
   "execution_count": 31,
   "metadata": {},
   "outputs": [],
   "source": [
    "def Maximiser(matrice,thors,tin):\n",
    "    indiceFarany = ForMax(matrice[-1][:-1])\n",
    "    while(indiceFarany != None):\n",
    "        if(indiceFarany == 'infini'):\n",
    "            return 'infini'\n",
    "        mat = np.array(matrice[:-1,indiceFarany])\n",
    "        mat2 = np.array(matrice[:-1,-1])\n",
    "        indiceMiakatra = maxCol(mat2,mat)\n",
    "        if (indiceMiakatra == 'infini'):\n",
    "            return 'indiceMiakatra'\n",
    "        thors[indiceMiakatra] = tin[indiceFarany]\n",
    "        traitementPivot(matrice,indiceFarany,indiceMiakatra)\n",
    "        indiceFarany = ForMax(matrice[-1][:-1])\n",
    "    return -matrice[-1][-1]"
   ]
  },
  {
   "cell_type": "code",
   "execution_count": 26,
   "metadata": {},
   "outputs": [],
   "source": [
    "def artificial(matrice,thors,tin):\n",
    "    ind = ForMin(matrice[-1][:-1])\n",
    "    # print(ind)\n",
    "    z = matrice[-1][-1]\n",
    "    while z != 0:\n",
    "        if(ind == 'infini'):\n",
    "            return 'infini'\n",
    "        mat1 = np.array(matrice[:-1,ind])\n",
    "        mat2 = np.array(matrice[:-1,-1])\n",
    "        jcol = maxCol(mat2,mat1)\n",
    "        print(jcol)\n",
    "        if (jcol == 'infini'):\n",
    "            return 'jcol'\n",
    "        tin[jcol] = thors[ind]\n",
    "        traitementPivot(matrice,ind,jcol)\n",
    "        # printMatrice(matrice)\n",
    "        ind = ForMin(matrice[-1][:-1])\n",
    "        z = matrice[-1][-1]"
   ]
  },
  {
   "cell_type": "code",
   "execution_count": null,
   "metadata": {},
   "outputs": [],
   "source": [
    "art = csvToMatrice('./donnee.csv')\n",
    "tab1 = ['a1','x4','x5','x6']\n",
    "tab2 = ['x1','x2','x3','x4','x5','x6','a','b']\n",
    "Minimiser(art,tab2,tab1)\n",
    "printMatrice(art)\n",
    "print(tab1)"
   ]
  },
  {
   "cell_type": "code",
   "execution_count": 51,
   "metadata": {},
   "outputs": [
    {
     "name": "stdout",
     "output_type": "stream",
     "text": [
      "0 2\n",
      "1 3\n",
      "0 2\n",
      "170\n",
      "   '0'    '1'    '1'   '-2'    '0'   '10'  \n",
      "   '0'    '0'    '1'   '-1'    '1'   '30'  \n",
      "   '1'    '0'    '0'    '1'    '0'   '30'  \n",
      "   '0'    '0'   '-2'   '-1'    '0' '-170'  \n",
      "['x5', 'x2', 'x2', 'x4', 'x5'] ['x2', 'x5', 'x1']\n"
     ]
    }
   ],
   "source": [
    "matrice = csvToMatrice('./matrice.csv')\n",
    "tab1 = ['x1','x2','x3','x4','x5']\n",
    "tab2 = ['x2','x5','x1']\n",
    "z = Maximiser(matrice,tab2,tab1)\n",
    "print(z)\n",
    "printMatrice(matrice)\n",
    "print(tab1, tab2)"
   ]
  },
  {
   "cell_type": "code",
   "execution_count": null,
   "metadata": {},
   "outputs": [],
   "source": [
    "# matrice = csvToMatrice('./autre.csv')\n",
    "# tab1 = ['x1','x2']\n",
    "# tab2 = []"
   ]
  },
  {
   "cell_type": "code",
   "execution_count": null,
   "metadata": {},
   "outputs": [],
   "source": []
  }
 ],
 "metadata": {
  "kernelspec": {
   "display_name": "Python 3.10.6 64-bit",
   "language": "python",
   "name": "python3"
  },
  "language_info": {
   "codemirror_mode": {
    "name": "ipython",
    "version": 3
   },
   "file_extension": ".py",
   "mimetype": "text/x-python",
   "name": "python",
   "nbconvert_exporter": "python",
   "pygments_lexer": "ipython3",
   "version": "3.10.6"
  },
  "orig_nbformat": 4,
  "vscode": {
   "interpreter": {
    "hash": "916dbcbb3f70747c44a77c7bcd40155683ae19c65e1c03b4aa3499c5328201f1"
   }
  }
 },
 "nbformat": 4,
 "nbformat_minor": 2
}

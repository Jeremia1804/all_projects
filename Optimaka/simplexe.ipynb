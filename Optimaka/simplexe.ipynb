{
 "cells": [
  {
   "cell_type": "code",
   "execution_count": 2,
   "metadata": {},
   "outputs": [],
   "source": [
    "import numpy as np\n",
    "import math\n",
    "import pandas as pd\n",
    "from fractions import Fraction"
   ]
  },
  {
   "cell_type": "code",
   "execution_count": 3,
   "metadata": {},
   "outputs": [],
   "source": [
    "def csvToMatrice(path):\n",
    "    matrix = pd.read_csv(path)\n",
    "    matrice = matrix.values\n",
    "    newMatrice = []\n",
    "    for ligne in matrice:\n",
    "        line = []\n",
    "        for el in ligne:\n",
    "            line.append(Fraction(str(el)))\n",
    "        newMatrice.append(line)\n",
    "    return np.array(newMatrice,Fraction)"
   ]
  },
  {
   "cell_type": "code",
   "execution_count": 4,
   "metadata": {},
   "outputs": [],
   "source": [
    "def isMax(tab):\n",
    "    i = np.argmax(tab)\n",
    "    j = np.argmin(tab)\n",
    "    if(tab[i] == 0 and tab[j] == 0):\n",
    "        return 'infini'\n",
    "    elif(tab[i]==0):\n",
    "        return None\n",
    "    return i\n",
    "\n",
    "def isMin(tab):\n",
    "    i = np.argmax(tab)\n",
    "    j = np.argmin(tab)\n",
    "    if(tab[i] == 0 and tab[j] == 0):\n",
    "        return 'infini'\n",
    "    elif(tab[j]==0):\n",
    "        return None\n",
    "    return j"
   ]
  },
  {
   "cell_type": "code",
   "execution_count": 5,
   "metadata": {},
   "outputs": [],
   "source": [
    "def isMax3(tabfin, tabpivot):\n",
    "    valeur = math.inf\n",
    "    monIndice = 0\n",
    "    for t in range (0,tabpivot.__len__()):\n",
    "        if tabpivot[t] > 0:\n",
    "            val = tabfin[t]/tabpivot[t]\n",
    "            if val<valeur:\n",
    "                valeur = val\n",
    "                monIndice = t\n",
    "    if valeur == math.inf:\n",
    "        return 'infini'\n",
    "    else:     \n",
    "        return monIndice"
   ]
  },
  {
   "cell_type": "code",
   "execution_count": 6,
   "metadata": {},
   "outputs": [],
   "source": [
    "def afficherMatrice(tab):\n",
    "    for ligne in tab:\n",
    "        for el in ligne:\n",
    "            me = str(el)\n",
    "            print(repr(me).rjust(6), end=' ')\n",
    "        print(\" \")"
   ]
  },
  {
   "cell_type": "code",
   "execution_count": 7,
   "metadata": {},
   "outputs": [],
   "source": [
    "def echangerPivot(matrice,indiceFarany,indiceMiakatra):\n",
    "    pivot = matrice[indiceMiakatra][indiceFarany]\n",
    "    matrice[indiceMiakatra] /= pivot\n",
    "    for i in range (0,matrice.__len__()):\n",
    "        if(i!= indiceMiakatra):\n",
    "            pivot1 = matrice[i][indiceFarany]\n",
    "            matrice[i] -= matrice[indiceMiakatra] * pivot1\n",
    "            "
   ]
  },
  {
   "cell_type": "code",
   "execution_count": 8,
   "metadata": {},
   "outputs": [],
   "source": [
    "def Phase1(matrice,thors,tin):\n",
    "    ind = isMin(matrice[-1][:-1])\n",
    "    z = matrice[-1][-1]\n",
    "    while z != 0:\n",
    "        if(ind == 'infini'):\n",
    "            return 'infini'\n",
    "        mat1 = np.array(matrice[:-1,ind])\n",
    "        mat2 = np.array(matrice[:-1,-1])\n",
    "        jcol = isMax3(mat2,mat1)\n",
    "        if (jcol == 'infini'):\n",
    "            return 'jcol'\n",
    "        tin[jcol] = thors[ind]\n",
    "        echangerPivot(matrice,ind,jcol)\n",
    "        afficherMatrice(matrice)\n",
    "        ind = isMin(matrice[-1][:-1])\n",
    "        z = matrice[-1][-1]\n",
    "    return 0"
   ]
  },
  {
   "cell_type": "code",
   "execution_count": 9,
   "metadata": {},
   "outputs": [],
   "source": [
    "def Simplexe2(matrice,thors,tin):\n",
    "    indiceFarany = isMin(matrice[-1][:-1])\n",
    "    while indiceFarany != None:\n",
    "        if(indiceFarany == 'infini'):\n",
    "            return 'infini'\n",
    "        mat = np.array(matrice[:-1,indiceFarany])\n",
    "        mat2 = np.array(matrice[:-1,-1])\n",
    "        indiceMiakatra = isMax3(mat2,mat)\n",
    "        if (indiceMiakatra == 'infini'):\n",
    "            return 'indiceMiakatra'\n",
    "        tin[indiceMiakatra] = thors[indiceFarany]\n",
    "        echangerPivot(matrice,indiceFarany,indiceMiakatra)\n",
    "        print()\n",
    "        afficherMatrice(matrice)\n",
    "        indiceFarany = isMin(matrice[-1][:-1])\n",
    "    return -1*matrice[-1][-1]"
   ]
  },
  {
   "cell_type": "code",
   "execution_count": 15,
   "metadata": {},
   "outputs": [
    {
     "name": "stdout",
     "output_type": "stream",
     "text": [
      "  '-4'    '6'    '1'    '0'    '0'    '9'  \n",
      "   '1'    '1'    '0'    '1'    '0'    '4'  \n",
      "   '0'    '1'    '0'    '0'    '1'    '2'  \n",
      "   '1'   '-2'    '0'    '0'    '0'    '0'  \n",
      "\n",
      "'-2/3'    '1'  '1/6'    '0'    '0'  '3/2'  \n",
      " '5/3'    '0' '-1/6'    '1'    '0'  '5/2'  \n",
      " '2/3'    '0' '-1/6'    '0'    '1'  '1/2'  \n",
      "'-1/3'    '0'  '1/3'    '0'    '0'    '3'  \n",
      "\n",
      "   '0'    '1'    '0'    '0'    '1'    '2'  \n",
      "   '0'    '0'  '1/4'    '1' '-5/2'  '5/4'  \n",
      "   '1'    '0' '-1/4'    '0'  '3/2'  '3/4'  \n",
      "   '0'    '0'  '1/4'    '0'  '1/2' '13/4'  \n",
      "\n",
      "   '0'    '1'    '0'    '0'    '1'    '2'  \n",
      "   '0'    '0'  '1/4'    '1' '-5/2'  '5/4'  \n",
      "   '1'    '0' '-1/4'    '0'  '3/2'  '3/4'  \n",
      "   '0'    '0'  '1/4'    '0'  '1/2' '13/4'  \n",
      "\n",
      "['x2', 'x4', 'x1']\n",
      "   '0'    '1'    '0'    '2'  \n",
      "   '0'    '0'  '1/4'  '5/4'  \n",
      "   '1'    '0' '-1/4'  '3/4'  \n",
      "   '0'    '0'  '200' '1000'  \n"
     ]
    }
   ],
   "source": [
    "thors = ['x1','x2','x3','x4','x5']\n",
    "tin = ['x3','x4','x5']\n",
    "matrice = csvToMatrice('./donne.csv')\n",
    "afficherMatrice(matrice)\n",
    "z = Simplexe2(matrice,thors,tin)\n",
    "print()\n",
    "afficherMatrice(matrice)\n",
    "print()\n",
    "print(tin)\n",
    "\n",
    "matt = csvToMatrice('./miandry.csv')\n",
    "matrice = np.delete(matrice,-2,axis = 1)\n",
    "matrice = np.delete(matrice,-2,axis = 1)\n",
    "for i in range (0,len(matrice[-1])):\n",
    "    matrice[-1][i] = matt[-1][i]\n",
    "\n",
    "tableau = ['x1','x2']\n",
    "    \n",
    "tab = [0,1]\n",
    "for ca in tab:\n",
    "    pivot  = matrice[ca][ca]\n",
    "    pivot1 = matrice[-1][ca]\n",
    "    for i in range (0,len(matrice[ca])):\n",
    "        matrice[-1][i] = matrice[-1][i]*pivot - matrice[ca][i]*pivot1\n",
    "afficherMatrice(matrice)\n"
   ]
  }
 ],
 "metadata": {
  "kernelspec": {
   "display_name": "Python 3.10.6 64-bit",
   "language": "python",
   "name": "python3"
  },
  "language_info": {
   "codemirror_mode": {
    "name": "ipython",
    "version": 3
   },
   "file_extension": ".py",
   "mimetype": "text/x-python",
   "name": "python",
   "nbconvert_exporter": "python",
   "pygments_lexer": "ipython3",
   "version": "3.10.6"
  },
  "orig_nbformat": 4,
  "vscode": {
   "interpreter": {
    "hash": "916dbcbb3f70747c44a77c7bcd40155683ae19c65e1c03b4aa3499c5328201f1"
   }
  }
 },
 "nbformat": 4,
 "nbformat_minor": 2
}

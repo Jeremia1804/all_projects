{
 "cells": [
  {
   "cell_type": "markdown",
   "id": "163e1278",
   "metadata": {},
   "source": [
    "## classification binaire : Regression logistique"
   ]
  },
  {
   "cell_type": "markdown",
   "id": "2f2ee084",
   "metadata": {},
   "source": [
    "### étape 1 : importation"
   ]
  },
  {
   "cell_type": "code",
   "execution_count": 1,
   "id": "be83b305",
   "metadata": {},
   "outputs": [],
   "source": [
    "import numpy as np\n",
    "import pandas as pd\n",
    "from sklearn import linear_model #regression logistique"
   ]
  },
  {
   "cell_type": "markdown",
   "id": "90007a3b",
   "metadata": {},
   "source": [
    "### étape 2 : lecture des données"
   ]
  },
  {
   "cell_type": "code",
   "execution_count": 2,
   "id": "59c5bbf2",
   "metadata": {},
   "outputs": [],
   "source": [
    "df = pd.read_csv('spam.csv')"
   ]
  },
  {
   "cell_type": "markdown",
   "id": "4c30ae99",
   "metadata": {},
   "source": [
    "### étape 3: séparation de X et y"
   ]
  },
  {
   "cell_type": "code",
   "execution_count": 3,
   "id": "c4fd2c64",
   "metadata": {},
   "outputs": [],
   "source": [
    "X = df[df.columns[0:-1]]\n",
    "y = df[df.columns[-1]]"
   ]
  },
  {
   "cell_type": "markdown",
   "id": "0226e670",
   "metadata": {},
   "source": [
    "### étape 4: diviser en données d'entrainement et de test"
   ]
  },
  {
   "cell_type": "code",
   "execution_count": 4,
   "id": "0c208104",
   "metadata": {},
   "outputs": [],
   "source": [
    "from sklearn.model_selection import train_test_split\n",
    "X_train, X_test, y_train, y_test = train_test_split(X, y, test_size = 0.25, random_state = 0)"
   ]
  },
  {
   "cell_type": "markdown",
   "id": "c8f366f1",
   "metadata": {},
   "source": [
    "### étape 5: Normalisation des données"
   ]
  },
  {
   "cell_type": "code",
   "execution_count": 5,
   "id": "901a2aea",
   "metadata": {},
   "outputs": [],
   "source": [
    "from sklearn.preprocessing import StandardScaler\n",
    "sc = StandardScaler()\n",
    "X_train = sc.fit_transform(X_train)\n",
    "X_test = sc.transform(X_test)"
   ]
  },
  {
   "cell_type": "markdown",
   "id": "f3fa7d14",
   "metadata": {},
   "source": [
    "### étape 6: Création de modèle (régression logistique)"
   ]
  },
  {
   "cell_type": "code",
   "execution_count": 6,
   "id": "d1916600",
   "metadata": {},
   "outputs": [
    {
     "data": {
      "text/plain": [
       "LogisticRegression()"
      ]
     },
     "execution_count": 6,
     "metadata": {},
     "output_type": "execute_result"
    }
   ],
   "source": [
    "logreg = linear_model.LogisticRegression()\n",
    "logreg.fit(X_train, y_train)"
   ]
  },
  {
   "cell_type": "markdown",
   "id": "c2827252",
   "metadata": {},
   "source": [
    "### étape 7 : prédiction à partir des données de test"
   ]
  },
  {
   "cell_type": "code",
   "execution_count": 7,
   "id": "dfd8498b",
   "metadata": {},
   "outputs": [],
   "source": [
    "y_pred = logreg.predict(X_test)"
   ]
  },
  {
   "cell_type": "markdown",
   "id": "30854997",
   "metadata": {},
   "source": [
    "### étape 8: évaluation du modèle"
   ]
  },
  {
   "cell_type": "code",
   "execution_count": 8,
   "id": "e41171b8",
   "metadata": {},
   "outputs": [
    {
     "data": {
      "text/plain": [
       "0.9044309296264118"
      ]
     },
     "execution_count": 8,
     "metadata": {},
     "output_type": "execute_result"
    }
   ],
   "source": [
    "from sklearn.metrics import accuracy_score\n",
    "accuracy_score(y_test, y_pred)"
   ]
  },
  {
   "cell_type": "code",
   "execution_count": 9,
   "id": "ca68af69",
   "metadata": {},
   "outputs": [
    {
     "name": "stdout",
     "output_type": "stream",
     "text": [
      "[[649  42]\n",
      " [ 68 392]]\n"
     ]
    }
   ],
   "source": [
    "from sklearn.metrics import confusion_matrix\n",
    "cm = confusion_matrix(y_test, y_pred)\n",
    "print(cm)"
   ]
  }
 ],
 "metadata": {
  "kernelspec": {
   "display_name": "Python 3 (ipykernel)",
   "language": "python",
   "name": "python3"
  },
  "language_info": {
   "codemirror_mode": {
    "name": "ipython",
    "version": 3
   },
   "file_extension": ".py",
   "mimetype": "text/x-python",
   "name": "python",
   "nbconvert_exporter": "python",
   "pygments_lexer": "ipython3",
   "version": "3.8.10"
  }
 },
 "nbformat": 4,
 "nbformat_minor": 5
}

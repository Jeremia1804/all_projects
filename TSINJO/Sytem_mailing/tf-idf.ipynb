{
 "cells": [
  {
   "cell_type": "code",
   "execution_count": 7,
   "metadata": {},
   "outputs": [
    {
     "name": "stdout",
     "output_type": "stream",
     "text": [
      "Score TF-IDF sous forme de matrice:\n",
      "Document 1: [0.05068313851352055, 0.05068313851352055, 0, 0, 0.05068313851352055, 0, 0, 0, 0, 0, 0.0, 0, 0, 0, 0, 0.05068313851352055, 0, 0, 0, -0.03596025905647261, 0.0, -0.03596025905647261, 0]\n",
      "Document 2: [0, 0, 0, 0.036860464373469494, 0, 0, 0.036860464373469494, 0.0, 0.036860464373469494, -0.026152915677434628, 0, 0, 0.036860464373469494, 0.036860464373469494, 0, 0, 0.036860464373469494, 0, 0, -0.026152915677434628, 0, -0.026152915677434628, 0.0]\n",
      "Document 3: [0, 0, 0.033788759009013694, 0, 0, 0.033788759009013694, 0, 0.0, 0, 0, 0.0, 0.033788759009013694, 0, 0, 0.033788759009013694, 0, 0, 0.0, 0.033788759009013694, -0.023973506037648407, 0.0, -0.023973506037648407, 0.0]\n"
     ]
    }
   ],
   "source": [
    "import math\n",
    "from collections import Counter\n",
    "\n",
    "def preprocess_text(text):\n",
    "    # Mettre en minuscule et enlever la ponctuation\n",
    "    text = text.lower()\n",
    "    text = text.replace('.', '').replace(',', '').replace('!', '').replace('?', '').replace(\"\\r\",'')\n",
    "    return text\n",
    "\n",
    "def compute_tf(text):\n",
    "    # Calcul de la fréquence du terme (Term Frequency, TF)\n",
    "    word_counts = Counter(text.split())\n",
    "    total_words = len(text.split())\n",
    "    tf_scores = {word: count/total_words for word, count in word_counts.items()}\n",
    "    return tf_scores\n",
    "\n",
    "def compute_idf(documents):\n",
    "    # Calcul de la fréquence inverse du document (Inverse Document Frequency, IDF)\n",
    "    N = len(documents)\n",
    "    idf_scores = {}\n",
    "    all_words = set([word for doc in documents for word in doc.split()])\n",
    "    \n",
    "    for word in all_words:\n",
    "        doc_count = sum([1 for doc in documents if word in doc])\n",
    "        idf_scores[word] = math.log(N / (doc_count + 1))\n",
    "    return idf_scores\n",
    "\n",
    "def compute_tfidf(tf_scores, idf_scores, all_words):\n",
    "    # Calcul du score TF-IDF pour tous les mots existants dans tous les documents\n",
    "    tfidf_scores = [tf_scores[word] * idf_scores[word] if word in tf_scores else 0 for word in all_words]\n",
    "    return tfidf_scores\n",
    "\n",
    "def getMatrix(documents):\n",
    "    preprocessed_documents = [preprocess_text(doc) for doc in documents]\n",
    "    tf_scores = [compute_tf(doc) for doc in preprocessed_documents]\n",
    "    idf_scores = compute_idf(preprocessed_documents)\n",
    "    # Création d'un tableau contenant tous les mots existants dans tous les documents\n",
    "    all_words = set([word for doc in preprocessed_documents for word in doc.split()])\n",
    "    # Création d'une matrice sous forme de tableau à une seule dimension pour chaque document\n",
    "    matrix = []\n",
    "    for i, doc in enumerate(preprocessed_documents):\n",
    "        tfidf_scores = compute_tfidf(tf_scores[i], idf_scores, all_words)\n",
    "        matrix.append(tfidf_scores)\n",
    "    return matrix\n",
    "\n",
    "\n",
    "\n",
    "# Exemple d'utilisation\n",
    "documents = [\n",
    "    \"Ce document parle de la classification des textes.\",\n",
    "    \"La classification est  une tâche importante en traitement du langage naturel.\",\n",
    "    \"Le TF-IDF est une mesure couramment utilisée pour la classification de textes.\"\n",
    "]\n",
    "\n",
    "matrix = getMatrix(documents)\n",
    "# Affichage des scores TF-IDF sous forme de matrice\n",
    "print(\"Score TF-IDF sous forme de matrice:\")\n",
    "for i, doc_scores in enumerate(matrix):\n",
    "    print(f\"Document {i+1}: {doc_scores}\")\n"
   ]
  },
  {
   "cell_type": "code",
   "execution_count": null,
   "metadata": {},
   "outputs": [],
   "source": []
  }
 ],
 "metadata": {
  "kernelspec": {
   "display_name": "Python 3.10.6 64-bit",
   "language": "python",
   "name": "python3"
  },
  "language_info": {
   "codemirror_mode": {
    "name": "ipython",
    "version": 3
   },
   "file_extension": ".py",
   "mimetype": "text/x-python",
   "name": "python",
   "nbconvert_exporter": "python",
   "pygments_lexer": "ipython3",
   "version": "3.10.6"
  },
  "orig_nbformat": 4,
  "vscode": {
   "interpreter": {
    "hash": "916dbcbb3f70747c44a77c7bcd40155683ae19c65e1c03b4aa3499c5328201f1"
   }
  }
 },
 "nbformat": 4,
 "nbformat_minor": 2
}

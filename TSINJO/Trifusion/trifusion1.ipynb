{
 "cells": [
  {
   "cell_type": "code",
   "execution_count": 1,
   "metadata": {},
   "outputs": [],
   "source": [
    "def find(list,toFind):\n",
    "    if toFind not in list:\n",
    "        return None\n",
    "    return toFind\n"
   ]
  },
  {
   "cell_type": "code",
   "execution_count": 2,
   "metadata": {},
   "outputs": [],
   "source": [
    "def initial(nb,element,n, nbfois,list):\n",
    "    if nbfois == n:\n",
    "        l = find(element,nb)\n",
    "        if l!= None:\n",
    "            list.append(l)\n",
    "            return l\n",
    "        return l\n",
    "    else:\n",
    "        nbfois += 1\n",
    "        for i in range(0,element.__len__()-((n-nbfois)+1)):\n",
    "            toFind = nb-element[i]\n",
    "            # print(nb,\"-\",element[i],\"=\",toFind,\"ambany\")\n",
    "            l = initial(toFind,element[i+1:],n,nbfois,list)\n",
    "            if l != None:\n",
    "                list.append(element[i])\n",
    "                return l"
   ]
  },
  {
   "cell_type": "code",
   "execution_count": 3,
   "metadata": {},
   "outputs": [],
   "source": [
    "def inital(nb,element,n, nbfois,list):\n",
    "    if nbfois+2 == n:\n",
    "        for i in range (0,element.__len__()-1):\n",
    "            toFind = nb-element[i]\n",
    "            print(nb,\"-\",element[i],\"=\",toFind,\"ambony\")\n",
    "            l = find(element[i+1:],toFind)\n",
    "            if l!= None:\n",
    "                list.append(l)\n",
    "                list.append(element[i])\n",
    "                return l\n",
    "        return l\n",
    "    else:\n",
    "        nbfois += 1\n",
    "        for i in range(0,element.__len__()-((n-nbfois)+2)):\n",
    "            toFind = nb-element[i]\n",
    "            print(nb,\"-\",element[i],\"=\",toFind,\"ambany\")\n",
    "            l = inital(toFind,element[i+1:],n,nbfois,list)\n",
    "            if l != None:\n",
    "                list.append(element[i])\n",
    "                return l"
   ]
  },
  {
   "cell_type": "code",
   "execution_count": 4,
   "metadata": {},
   "outputs": [],
   "source": [
    "def prefilnal(element,total,n,list):\n",
    "    for tot in total:\n",
    "        l = initial(tot,element,n,1,list)\n",
    "        if l!= None:\n",
    "            list.append(tot)\n",
    "            return list\n",
    "    return \"tsy misy  ee\""
   ]
  },
  {
   "cell_type": "code",
   "execution_count": 5,
   "metadata": {},
   "outputs": [],
   "source": [
    "def final(element,total):\n",
    "    parler = []\n",
    "    for i in range (2,element.__len__()+1):\n",
    "        for tot in total:\n",
    "            list = []\n",
    "            l = initial(tot,element,i,1,list)\n",
    "            if l!= None:\n",
    "                list.append(tot)\n",
    "                parler.append(list)\n",
    "    return parler"
   ]
  },
  {
   "cell_type": "code",
   "execution_count": 6,
   "metadata": {},
   "outputs": [
    {
     "name": "stdout",
     "output_type": "stream",
     "text": [
      "tsy misy  ee\n"
     ]
    }
   ],
   "source": [
    "element = [1,2,3,4,5,6,7]\n",
    "total = [24]\n",
    "list = []\n",
    "l = prefilnal(element,total,7,list)\n",
    "print(l)"
   ]
  },
  {
   "cell_type": "code",
   "execution_count": 9,
   "metadata": {},
   "outputs": [],
   "source": [
    "def affichage(tab):\n",
    "    string = ''\n",
    "    op = \" + \"\n",
    "    for i in range (len(tab)-1):\n",
    "        if(i == len(tab)-2):\n",
    "            op = \"\"\n",
    "        string += str(tab[i]) + op\n",
    "    string += ' = ' + str(tab[len(tab)-1])\n",
    "    print(string)"
   ]
  },
  {
   "cell_type": "code",
   "execution_count": 13,
   "metadata": {},
   "outputs": [
    {
     "name": "stdout",
     "output_type": "stream",
     "text": [
      "7 + 4 + 3 + 1 = 15\n"
     ]
    }
   ],
   "source": [
    "element = [1,2,3,4,7]\n",
    "total = [15]\n",
    "l = final(element,total)\n",
    "for j in l:\n",
    "    affichage(j)\n",
    "# for j in l:\n",
    "#     print(j)"
   ]
  },
  {
   "cell_type": "code",
   "execution_count": null,
   "metadata": {},
   "outputs": [],
   "source": []
  },
  {
   "cell_type": "code",
   "execution_count": null,
   "metadata": {},
   "outputs": [],
   "source": []
  }
 ],
 "metadata": {
  "kernelspec": {
   "display_name": "Python 3.10.6 64-bit",
   "language": "python",
   "name": "python3"
  },
  "language_info": {
   "codemirror_mode": {
    "name": "ipython",
    "version": 3
   },
   "file_extension": ".py",
   "mimetype": "text/x-python",
   "name": "python",
   "nbconvert_exporter": "python",
   "pygments_lexer": "ipython3",
   "version": "3.10.6"
  },
  "orig_nbformat": 4,
  "vscode": {
   "interpreter": {
    "hash": "916dbcbb3f70747c44a77c7bcd40155683ae19c65e1c03b4aa3499c5328201f1"
   }
  }
 },
 "nbformat": 4,
 "nbformat_minor": 2
}

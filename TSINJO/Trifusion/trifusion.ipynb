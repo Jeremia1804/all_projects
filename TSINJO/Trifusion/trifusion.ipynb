{
 "cells": [
  {
   "cell_type": "code",
   "execution_count": 164,
   "metadata": {},
   "outputs": [],
   "source": [
    "def chercher(list, toFind):\n",
    "    valiny = 0\n",
    "    taille = list.__len__()\n",
    "    i = int(taille/2)\n",
    "    if(list[i]==toFind):\n",
    "        valiny = toFind\n",
    "        return valiny\n",
    "    \n",
    "    if(taille == 1):\n",
    "        return \"tsy misy\"\n",
    "    elif(list[i]>toFind):\n",
    "        valiny = chercher(list[0:i],toFind)\n",
    "    else:\n",
    "        print(taille)\n",
    "        valiny = chercher(list[i+1:-1],toFind)\n",
    "    return valiny"
   ]
  },
  {
   "cell_type": "code",
   "execution_count": 165,
   "metadata": {},
   "outputs": [],
   "source": [
    "def find(list,toFind):\n",
    "    if toFind not in list:\n",
    "        return None\n",
    "    return toFind\n"
   ]
  },
  {
   "cell_type": "code",
   "execution_count": null,
   "metadata": {},
   "outputs": [],
   "source": []
  },
  {
   "cell_type": "code",
   "execution_count": 166,
   "metadata": {},
   "outputs": [],
   "source": [
    "def prefilnal(element,total,n,list):\n",
    "    for tot in total:\n",
    "        l = initial(tot,element,n,1,list)\n",
    "        if l!= None:\n",
    "            list.append(tot)\n",
    "            return list\n",
    "    return \"tsy misy  ee\""
   ]
  },
  {
   "cell_type": "code",
   "execution_count": 167,
   "metadata": {},
   "outputs": [],
   "source": [
    "def final(element,total,list):\n",
    "    parler = []\n",
    "    for i in range (2,element.__len__()):\n",
    "        for tot in total:\n",
    "            l = initial(tot,element,i,1,list)\n",
    "            if l!= None:\n",
    "                list.append(tot)\n",
    "                parler.append(list)\n",
    "                list = []\n",
    "    return parler"
   ]
  },
  {
   "cell_type": "code",
   "execution_count": 163,
   "metadata": {},
   "outputs": [
    {
     "name": "stdout",
     "output_type": "stream",
     "text": [
      "5 - 31 = -26 ambany\n",
      "5 - -25 = 30 ambany\n",
      "5 - 27 = -22 ambany\n",
      "6 - 31 = -25 ambany\n",
      "18 - 31 = -13 ambany\n",
      "18 - -25 = 43 ambany\n",
      "18 - 27 = -9 ambany\n",
      "9 - 31 = -22 ambany\n",
      "9 - -25 = 34 ambany\n",
      "9 - 27 = -18 ambany\n",
      "35 - 31 = 4 ambany\n",
      "35 - -25 = 60 ambany\n",
      "35 - 27 = 8 ambany\n",
      "12 - 31 = -19 ambany\n",
      "12 - -25 = 37 ambany\n",
      "12 - 27 = -15 ambany\n",
      "5 - 31 = -26 ambany\n",
      "-26 - -25 = -1 ambany\n",
      "-26 - 27 = -53 ambany\n",
      "5 - -25 = 30 ambany\n",
      "30 - 27 = 3 ambany\n",
      "6 - 31 = -25 ambany\n",
      "-25 - -25 = 0 ambany\n",
      "-25 - 27 = -52 ambany\n",
      "6 - -25 = 31 ambany\n",
      "31 - 27 = 4 ambany\n",
      "18 - 31 = -13 ambany\n",
      "-13 - -25 = 12 ambany\n",
      "-13 - 27 = -40 ambany\n",
      "18 - -25 = 43 ambany\n",
      "43 - 27 = 16 ambany\n",
      "9 - 31 = -22 ambany\n",
      "-22 - -25 = 3 ambany\n",
      "-22 - 27 = -49 ambany\n",
      "9 - -25 = 34 ambany\n",
      "34 - 27 = 7 ambany\n",
      "35 - 31 = 4 ambany\n",
      "4 - -25 = 29 ambany\n",
      "4 - 27 = -23 ambany\n",
      "35 - -25 = 60 ambany\n",
      "60 - 27 = 33 ambany\n",
      "12 - 31 = -19 ambany\n",
      "-19 - -25 = 6 ambany\n",
      "5 - 31 = -26 ambany\n",
      "-26 - -25 = -1 ambany\n",
      "-1 - 27 = -28 ambany\n",
      "6 - 31 = -25 ambany\n",
      "-25 - -25 = 0 ambany\n",
      "0 - 27 = -27 ambany\n",
      "18 - 31 = -13 ambany\n",
      "-13 - -25 = 12 ambany\n",
      "12 - 27 = -15 ambany\n",
      "9 - 31 = -22 ambany\n",
      "-22 - -25 = 3 ambany\n",
      "3 - 27 = -24 ambany\n",
      "35 - 31 = 4 ambany\n",
      "4 - -25 = 29 ambany\n",
      "29 - 27 = 2 ambany\n",
      "12 - 31 = -19 ambany\n",
      "-19 - -25 = 6 ambany\n",
      "6 - 27 = -21 ambany\n",
      "[-25, 31, 6]\n",
      "[7, 27, -25, 9]\n",
      "[6, -25, 31, 12]\n"
     ]
    }
   ],
   "source": [
    "element = [31,-25,27,6,7]\n",
    "total = [5,6,18,9,35,12]\n",
    "list = []\n",
    "l = final(element,total,list)\n",
    "for j in l:\n",
    "    print(j)\n",
    "    "
   ]
  },
  {
   "cell_type": "code",
   "execution_count": null,
   "metadata": {},
   "outputs": [],
   "source": []
  },
  {
   "cell_type": "code",
   "execution_count": null,
   "metadata": {},
   "outputs": [],
   "source": []
  },
  {
   "cell_type": "code",
   "execution_count": null,
   "metadata": {},
   "outputs": [],
   "source": []
  }
 ],
 "metadata": {
  "kernelspec": {
   "display_name": "Python 3.10.6 64-bit",
   "language": "python",
   "name": "python3"
  },
  "language_info": {
   "codemirror_mode": {
    "name": "ipython",
    "version": 3
   },
   "file_extension": ".py",
   "mimetype": "text/x-python",
   "name": "python",
   "nbconvert_exporter": "python",
   "pygments_lexer": "ipython3",
   "version": "3.10.6"
  },
  "orig_nbformat": 4,
  "vscode": {
   "interpreter": {
    "hash": "916dbcbb3f70747c44a77c7bcd40155683ae19c65e1c03b4aa3499c5328201f1"
   }
  }
 },
 "nbformat": 4,
 "nbformat_minor": 2
}

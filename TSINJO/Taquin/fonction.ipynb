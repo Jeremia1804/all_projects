{
 "cells": [
  {
   "cell_type": "code",
   "execution_count": 45,
   "metadata": {},
   "outputs": [],
   "source": [
    "import numpy as np\n",
    "import math"
   ]
  },
  {
   "cell_type": "code",
   "execution_count": 2,
   "metadata": {},
   "outputs": [
    {
     "name": "stdout",
     "output_type": "stream",
     "text": [
      "False\n"
     ]
    }
   ],
   "source": [
    "moi = np.array([[4,5,6],[8,2,1],[4,4,3]])\n",
    "toi = np.array([[4,5,6],[8,2.000001,1],[4,4,3]])\n",
    "print(np.array_equal(moi,toi))"
   ]
  },
  {
   "cell_type": "code",
   "execution_count": 3,
   "metadata": {},
   "outputs": [
    {
     "name": "stdout",
     "output_type": "stream",
     "text": [
      "2\n"
     ]
    }
   ],
   "source": [
    "resolu = np.array([[1,2,3],[4,5,6],[0,8,7]])\n",
    "indices = np.where(resolu == 0)\n",
    "print(indices[0][0])"
   ]
  },
  {
   "cell_type": "code",
   "execution_count": 21,
   "metadata": {},
   "outputs": [],
   "source": [
    "def trouverelement(matrice,element):\n",
    "    for i in range(0,matrice.__len__()):\n",
    "        for j in range (0,matrice[i].__len__()):\n",
    "            if(matrice[i][j] == element):\n",
    "                return [i,j]"
   ]
  },
  {
   "cell_type": "code",
   "execution_count": 31,
   "metadata": {},
   "outputs": [],
   "source": [
    "def analyse(matrice,element):\n",
    "    indices = trouverelement(matrice,0)\n",
    "    ligne = indices[0]\n",
    "    col = indices[1]\n",
    "    fin = matrice.__len__()-1\n",
    "    lesetat = []\n",
    "    if(ligne!=0 and ligne!=fin and col!=0 and col!=fin ):\n",
    "        lesetat = [1,-1,2,-2]\n",
    "    elif(ligne == 0 and col == 0):\n",
    "        lesetat = [-1,2]\n",
    "    elif(ligne == 0 and col == fin):\n",
    "        lesetat = [-1,-2]\n",
    "    elif(ligne == fin and col == 0):\n",
    "        lesetat = [1,2]\n",
    "    elif(ligne == fin and col == fin):\n",
    "        lesetat = [1,-2]\n",
    "    elif(ligne == 0 and col > 0 and col < fin):\n",
    "        lesetat = [-1,2,-2]\n",
    "    elif(ligne == fin and col > 0 and col < fin):\n",
    "        lesetat = [1,2,-2]\n",
    "    elif(col == 0 and ligne > 0 and ligne<fin):\n",
    "        lesetat = [-1,1,2]\n",
    "    elif(col == fin and ligne > 0 and ligne<fin):\n",
    "        lesetat = [-1,1,-2]\n",
    "\n",
    "    while element in lesetat:\n",
    "        lesetat.remove(element)\n",
    "    return lesetat\n",
    "    "
   ]
  },
  {
   "cell_type": "code",
   "execution_count": 48,
   "metadata": {},
   "outputs": [],
   "source": [
    "def bouger(matrice,etat,position):\n",
    "    newMatrice = np.array(matrice)\n",
    "    ligne = position[0]\n",
    "    col = position[1]\n",
    "    indice = math.fabs(etat)\n",
    "    if(indice == 2):\n",
    "        maniere = int(etat/2)\n",
    "        abouger = newMatrice[ligne][col+maniere]\n",
    "        newMatrice[ligne][col+maniere] = 0\n",
    "        newMatrice[ligne][col] = abouger\n",
    "    elif(indice == 1):\n",
    "        abouger = newMatrice[ligne-etat][col]\n",
    "        newMatrice[ligne-etat][col] = 0\n",
    "        newMatrice[ligne][col] = abouger\n",
    "    return newMatrice"
   ]
  },
  {
   "cell_type": "code",
   "execution_count": 59,
   "metadata": {},
   "outputs": [],
   "source": [
    "def verifie(tabMatrice, matrice):\n",
    "        for mat in tabMatrice:\n",
    "            val = np.array_equiv(mat,matrice)\n",
    "            if(val == True):\n",
    "                return 0\n",
    "        return 1"
   ]
  },
  {
   "cell_type": "code",
   "execution_count": 64,
   "metadata": {},
   "outputs": [
    {
     "name": "stdout",
     "output_type": "stream",
     "text": [
      "0\n",
      "False\n",
      "False\n",
      "True\n"
     ]
    }
   ],
   "source": [
    "resolue = np.array([[1,2,3],[6,5,0],[4,8,7]])\n",
    "resolues = np.array([[0,2,3],[6,5,1],[4,8,7]])\n",
    "resoluess = np.array([[1,2,3],[6,5,8],[4,0,7]])\n",
    "\n",
    "list = []\n",
    "list.append(resolue)\n",
    "list.append(resolues)\n",
    "list.append(resoluess)\n",
    "print(verifie(list,resoluess))\n",
    "for h in list:\n",
    "    print(np.array_equal(h,np.array([[1,2,3],[6,5,8],[4,0,7]])))"
   ]
  },
  {
   "cell_type": "code",
   "execution_count": 58,
   "metadata": {},
   "outputs": [
    {
     "name": "stdout",
     "output_type": "stream",
     "text": [
      "deque([3, 4])\n"
     ]
    }
   ],
   "source": [
    "from collections import deque\n",
    "li = deque()\n",
    "li.append(1)\n",
    "li.append(2)\n",
    "li.popleft()\n",
    "li.append(3)\n",
    "li.append(4)\n",
    "li.popleft()\n",
    "print(li)"
   ]
  },
  {
   "cell_type": "code",
   "execution_count": 69,
   "metadata": {},
   "outputs": [
    {
     "data": {
      "text/plain": [
       "1"
      ]
     },
     "execution_count": 69,
     "metadata": {},
     "output_type": "execute_result"
    }
   ],
   "source": [
    "3 //2"
   ]
  },
  {
   "cell_type": "code",
   "execution_count": 70,
   "metadata": {},
   "outputs": [
    {
     "data": {
      "text/plain": [
       "0"
      ]
     },
     "execution_count": 70,
     "metadata": {},
     "output_type": "execute_result"
    }
   ],
   "source": [
    "3 // 4"
   ]
  },
  {
   "cell_type": "code",
   "execution_count": 86,
   "metadata": {},
   "outputs": [],
   "source": [
    "def genereSolution(n):\n",
    "        matrice = [[j+1+n*i for j in range(n)] for i in range(n)]\n",
    "        matrice[n-1][n-1] = 0\n",
    "        return np.array(matrice)"
   ]
  },
  {
   "cell_type": "code",
   "execution_count": 88,
   "metadata": {},
   "outputs": [
    {
     "name": "stdout",
     "output_type": "stream",
     "text": [
      "[[ 1  2  3  4]\n",
      " [ 5  6  7  8]\n",
      " [ 9 10 11 12]\n",
      " [13 14 15  0]]\n"
     ]
    }
   ],
   "source": [
    "print(genereSolution(4))"
   ]
  },
  {
   "cell_type": "code",
   "execution_count": null,
   "metadata": {},
   "outputs": [],
   "source": []
  }
 ],
 "metadata": {
  "kernelspec": {
   "display_name": "Python 3.10.6 64-bit",
   "language": "python",
   "name": "python3"
  },
  "language_info": {
   "codemirror_mode": {
    "name": "ipython",
    "version": 3
   },
   "file_extension": ".py",
   "mimetype": "text/x-python",
   "name": "python",
   "nbconvert_exporter": "python",
   "pygments_lexer": "ipython3",
   "version": "3.10.6"
  },
  "orig_nbformat": 4,
  "vscode": {
   "interpreter": {
    "hash": "916dbcbb3f70747c44a77c7bcd40155683ae19c65e1c03b4aa3499c5328201f1"
   }
  }
 },
 "nbformat": 4,
 "nbformat_minor": 2
}
